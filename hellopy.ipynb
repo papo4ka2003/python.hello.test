{
 "cells": [
  {
   "cell_type": "code",
   "execution_count": 1,
   "metadata": {},
   "outputs": [
    {
     "name": "stdout",
     "output_type": "stream",
     "text": [
      "Hello, Tagilla!\n"
     ]
    }
   ],
   "source": [
    "print(\"Hello, Tagilla!\")"
   ]
  }
 ],
 "metadata": {
  "kernelspec": {
   "display_name": "Python 3.10.8 64-bit (microsoft store)",
   "language": "python",
   "name": "python3"
  },
  "language_info": {
   "codemirror_mode": {
    "name": "ipython",
    "version": 3
   },
   "file_extension": ".py",
   "mimetype": "text/x-python",
   "name": "python",
   "nbconvert_exporter": "python",
   "pygments_lexer": "ipython3",
   "version": "3.10.8"
  },
  "orig_nbformat": 4,
  "vscode": {
   "interpreter": {
    "hash": "239f27051b4a89f2cb91e69d7d647ff8578a5472bfe5cef00d7c4efebdd5b731"
   }
  }
 },
 "nbformat": 4,
 "nbformat_minor": 2
}
